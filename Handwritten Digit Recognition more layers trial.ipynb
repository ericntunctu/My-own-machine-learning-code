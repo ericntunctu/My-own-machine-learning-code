{
 "cells": [
  {
   "cell_type": "code",
   "execution_count": 14,
   "metadata": {},
   "outputs": [],
   "source": [
    "from IPython import get_ipython\n",
    "get_ipython().run_line_magic('matplotlib', 'inline')\n",
    "import tensorflow as tf\n",
    "from keras.datasets import mnist\n",
    "from keras.models import Sequential \n",
    "from keras.layers.core import Dense, Activation\n",
    "from keras.layers import Dropout\n",
    "from keras.utils import np_utils\n",
    "import numpy as np\n",
    "import pandas as pd\n",
    "import matplotlib.pyplot as plt"
   ]
  },
  {
   "cell_type": "code",
   "execution_count": 2,
   "metadata": {},
   "outputs": [],
   "source": [
    "# load data\n",
    "(X_train, Y_train), (X_test, Y_test) = mnist.load_data()"
   ]
  },
  {
   "cell_type": "code",
   "execution_count": 3,
   "metadata": {},
   "outputs": [],
   "source": [
    "## each data is a 2d object\n",
    "X1_train = X_train.reshape(60000, 784)     \n",
    "X1_test = X_test.reshape(10000, 784)\n",
    "\n",
    "classes = 10\n",
    "Y1_train = np_utils.to_categorical(Y_train, classes)     \n",
    "Y1_test = np_utils.to_categorical(Y_test, classes)\n",
    "\n",
    "\n",
    "input_size = 784\n",
    "batch_size = 100     \n",
    "hidden_neurons = 100    "
   ]
  },
  {
   "cell_type": "code",
   "execution_count": null,
   "metadata": {},
   "outputs": [
    {
     "name": "stdout",
     "output_type": "stream",
     "text": [
      "Epoch 1/30\n",
      "60000/60000 [==============================] - 19s 317us/step - loss: 1.7330 - acc: 0.4362\n",
      "Epoch 2/30\n",
      "60000/60000 [==============================] - 19s 319us/step - loss: 1.0119 - acc: 0.7073\n",
      "Epoch 3/30\n",
      "60000/60000 [==============================] - 20s 326us/step - loss: 0.7659 - acc: 0.7833\n",
      "Epoch 4/30\n",
      "60000/60000 [==============================] - 19s 321us/step - loss: 0.6342 - acc: 0.8224\n",
      "Epoch 5/30\n",
      "60000/60000 [==============================] - 20s 338us/step - loss: 0.5581 - acc: 0.8425\n",
      "Epoch 6/30\n",
      "60000/60000 [==============================] - 19s 322us/step - loss: 0.5095 - acc: 0.8575\n",
      "Epoch 7/30\n",
      "60000/60000 [==============================] - 23s 378us/step - loss: 0.4699 - acc: 0.8675\n",
      "Epoch 8/30\n",
      "60000/60000 [==============================] - 25s 410us/step - loss: 0.4366 - acc: 0.8769\n",
      "Epoch 9/30\n",
      "60000/60000 [==============================] - 21s 355us/step - loss: 0.4153 - acc: 0.8830\n",
      "Epoch 10/30\n",
      "38700/60000 [==================>...........] - ETA: 8s - loss: 0.3995 - acc: 0.8878"
     ]
    }
   ],
   "source": [
    "### training process\n",
    "model = Sequential()      # ˙784-1000-1000-10\n",
    "\n",
    "model.add(Dense(units=1000, input_dim=784)) # Add Input/ first hidden_neurons \n",
    "model.add(Activation('sigmoid'))   \n",
    "model.add(Dropout(0.5))  # Add DropOut functionality  \n",
    "\n",
    "model.add(Dense(units=100, input_dim=100)) # Add Input/ second hidden_neurons \n",
    "model.add(Activation('sigmoid'))     \n",
    "model.add(Dropout(0.5))  # Add DropOut functionality  \n",
    "\n",
    "model.add(Dense(10, input_dim=100)) # Add second Input/ final results \n",
    "model.add(Activation('softmax'))\n",
    "\n",
    "model.compile(loss='categorical_crossentropy', metrics=['accuracy'], optimizer='sgd')\n",
    "\n",
    "model.fit(X1_train, Y1_train, batch_size=100, epochs=30, verbose=1)"
   ]
  },
  {
   "cell_type": "code",
   "execution_count": 10,
   "metadata": {},
   "outputs": [
    {
     "name": "stdout",
     "output_type": "stream",
     "text": [
      "10000/10000 [==============================] - 1s 50us/step\n",
      "Test accuracy: 0.9422\n"
     ]
    }
   ],
   "source": [
    "score = model.evaluate(X1_test, Y1_test, verbose=1) #算分數\n",
    "print('Test accuracy:', score[1]) "
   ]
  },
  {
   "cell_type": "code",
   "execution_count": null,
   "metadata": {},
   "outputs": [],
   "source": [
    "from keras.models import load_model\n",
    "\n",
    "model.save('my model.h')"
   ]
  }
 ],
 "metadata": {
  "kernelspec": {
   "display_name": "Python 3",
   "language": "python",
   "name": "python3"
  },
  "language_info": {
   "codemirror_mode": {
    "name": "ipython",
    "version": 3
   },
   "file_extension": ".py",
   "mimetype": "text/x-python",
   "name": "python",
   "nbconvert_exporter": "python",
   "pygments_lexer": "ipython3",
   "version": "3.6.7"
  }
 },
 "nbformat": 4,
 "nbformat_minor": 2
}
