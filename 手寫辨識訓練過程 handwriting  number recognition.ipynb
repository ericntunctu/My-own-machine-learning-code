{
 "cells": [
  {
   "cell_type": "code",
   "execution_count": 1,
   "metadata": {},
   "outputs": [
    {
     "name": "stderr",
     "output_type": "stream",
     "text": [
      "Using TensorFlow backend.\n"
     ]
    }
   ],
   "source": [
    "from IPython import get_ipython\n",
    "get_ipython().run_line_magic('matplotlib', 'inline')\n",
    "import tensorflow as tf\n",
    "\n",
    "from keras.datasets import mnist\n",
    "from keras.models import Sequential \n",
    "from keras.layers.core import Dense, Activation\n",
    "from keras.utils import np_utils\n",
    "\n",
    "import numpy as np\n",
    "import pandas as pd\n",
    "import matplotlib.pyplot as plt"
   ]
  },
  {
   "cell_type": "code",
   "execution_count": 2,
   "metadata": {},
   "outputs": [
    {
     "name": "stdout",
     "output_type": "stream",
     "text": [
      "Downloading data from https://s3.amazonaws.com/img-datasets/mnist.npz\n",
      "11493376/11490434 [==============================] - 2s 0us/step\n"
     ]
    }
   ],
   "source": [
    "### load data\n",
    "(X_train, Y_train), (X_test, Y_test) = mnist.load_data()"
   ]
  },
  {
   "cell_type": "code",
   "execution_count": 5,
   "metadata": {},
   "outputs": [
    {
     "name": "stdout",
     "output_type": "stream",
     "text": [
      "60000\n"
     ]
    },
    {
     "data": {
      "text/plain": [
       "array([[  0,   0,   0,   0,   0,   0,   0,   0,   0,   0,   0,   0,   0,\n",
       "          0,   0,   0,   0,   0,   0,   0,   0,   0,   0,   0,   0,   0,\n",
       "          0,   0],\n",
       "       [  0,   0,   0,   0,   0,   0,   0,   0,   0,   0,   0,   0,   0,\n",
       "          0,   0,   0,   0,   0,   0,   0,   0,   0,   0,   0,   0,   0,\n",
       "          0,   0],\n",
       "       [  0,   0,   0,   0,   0,   0,   0,   0,   0,   0,   0,   0,   0,\n",
       "          0,   0,   0,   0,   0,   0,   0,   0,   0,   0,   0,   0,   0,\n",
       "          0,   0],\n",
       "       [  0,   0,   0,   0,   0,   0,   0,   0,   0,   0,   0,   0,   0,\n",
       "          0,   0,   0,   0,   0,   0,   0,   0,   0,   0,   0,   0,   0,\n",
       "          0,   0],\n",
       "       [  0,   0,   0,   0,   0,   0,   0,   0,   0,   0,   0,   0,   0,\n",
       "          0,   0,   0,   0,   0,   0,   0,   0,   0,   0,   0,   0,   0,\n",
       "          0,   0],\n",
       "       [  0,   0,   0,   0,   0,   0,   0,  14, 116, 137, 251, 178,  15,\n",
       "          0,   0,   0,   0,   0,   0,   0,   0,   0,   0,   0,   0,   0,\n",
       "          0,   0],\n",
       "       [  0,   0,   0,   0,   0,   0,  33, 229, 254, 254, 254, 254, 219,\n",
       "         11,   0,   0,   0,   0,   0,   0,   0,   0,   0,   0,   0,   0,\n",
       "          0,   0],\n",
       "       [  0,   0,   0,   0,   0,   0, 110, 254, 169,  83,  86, 231, 254,\n",
       "        169,  13,   0,   0,   0,   0,   0,   0,   0,   0,   0,   0,   0,\n",
       "          0,   0],\n",
       "       [  0,   0,   0,   0,   0,   0,  14, 121,  12,   0,   0, 110, 254,\n",
       "        254,  92,   0,   0,   0,   0,   0,   0,   0,   0,   0,   0,   0,\n",
       "          0,   0],\n",
       "       [  0,   0,   0,   0,   0,   0,   0,   0,   0,   0,   0,   5, 136,\n",
       "        254, 240,  34,   0,   0,   0,   0,   0,   0,   0,   0,   0,   0,\n",
       "          0,   0],\n",
       "       [  0,   0,   0,   0,   0,   0,   0,   0,   0,   0,   0,   0,  42,\n",
       "        254, 254, 146,   0,   0,   0,   0,   0,   0,   0,   0,   0,   0,\n",
       "          0,   0],\n",
       "       [  0,   0,   0,   0,   0,   0,   0,   0,   0,   0,   0,   0,   2,\n",
       "        124, 254, 250,  22,   0,   0,   0,   0,   0,   0,   0,   0,   0,\n",
       "          0,   0],\n",
       "       [  0,   0,   0,   0,   0,   0,   0,   0,   0,   0,   0,   0,   0,\n",
       "         27, 222, 246,  21,   0,   0,   0,   0,   0,   0,   0,   0,   0,\n",
       "          0,   0],\n",
       "       [  0,   0,   0,   0,   0,   0,   0,   0,   0,   0,   0,   0,   0,\n",
       "          0, 196, 175,   4,   0,   0,   0,   0,   0,   0,   0,   0,   0,\n",
       "          0,   0],\n",
       "       [  0,   0,   0,   0,   0,   0,   0,   0,   0,   0,   0,   0,   0,\n",
       "          0, 114, 255,  51,   0,   0,   0,   0,   0,   0,   0,   0,   0,\n",
       "          0,   0],\n",
       "       [  0,   0,   0,   0,   0,   0,   0,   0,   0,   0,   0,   0,   0,\n",
       "          0,  78, 254, 141,   0,   0,   0,   0,   0,   0,   0,   0,   0,\n",
       "          0,   0],\n",
       "       [  0,   0,   0,   0,   0,   0,   0,   0,   0,   0,   0,   0,   0,\n",
       "          0,  78, 255, 141,   0,   0,   0,   0,   0,   0,   0,   0,   0,\n",
       "          0,   0],\n",
       "       [  0,   0,   0,   0,   0,   0,   0,   0,   0,   0,   0,   0,   0,\n",
       "          0, 130, 254,  89,   0,   0,   0,   0,   0,   0,   0,   0,   0,\n",
       "          0,   0],\n",
       "       [  0,   0,   0,   0,   0,   0,   0,   0,   0,   0,   0,   2,  88,\n",
       "        131, 226, 206,  12,   0,   0,   0,   0,   0,   0,   0,   0,   0,\n",
       "          0,   0],\n",
       "       [  0,   0,   0,   0,   0,   0,   0,   0,   0,   0,   0,  22, 230,\n",
       "        255, 254, 170,   3,   0,   0,   0,   0,   0,   0,   0,   0,   0,\n",
       "          0,   0],\n",
       "       [  0,   0,   0,   0,   0,   0,   0,   0,   0,   0,   0,   0,  15,\n",
       "        182, 254, 254, 174,  26,   0,   0,   0,   0,   0,   0,   0,   0,\n",
       "          0,   0],\n",
       "       [  0,   0,   0,   0,   0,   0,   0,   0,   0,   0,   0,   0,   0,\n",
       "         17, 182, 224, 254, 213,  58,   0,   0,   0,   0,   0,   0,   0,\n",
       "          0,   0],\n",
       "       [  0,   0,   0,   0,   0,   0,   0,   0,   0,   0,   0,   0,   0,\n",
       "          0,  16,  28, 237, 254, 248, 180,  62,   0,   0,   0,   0,   0,\n",
       "          0,   0],\n",
       "       [  0,   0,   0,   0,   0,   0,   0,   0,   0,   0,   0,   0,   0,\n",
       "          0,   0,   0,  32, 203, 254, 254, 246, 148,   0,   0,   0,   0,\n",
       "          0,   0],\n",
       "       [  0,   0,   0,   0,   0,   0,   0,   0,   0,   0,   0,   0,   0,\n",
       "          0,   0,   0,   0,   9,  45, 254, 254, 171,   0,   0,   0,   0,\n",
       "          0,   0],\n",
       "       [  0,   0,   0,   0,   0,   0,   0,   0,   0,   0,   0,   0,   0,\n",
       "          0,   0,   0,   0,   0,   0,   0,   0,   0,   0,   0,   0,   0,\n",
       "          0,   0],\n",
       "       [  0,   0,   0,   0,   0,   0,   0,   0,   0,   0,   0,   0,   0,\n",
       "          0,   0,   0,   0,   0,   0,   0,   0,   0,   0,   0,   0,   0,\n",
       "          0,   0],\n",
       "       [  0,   0,   0,   0,   0,   0,   0,   0,   0,   0,   0,   0,   0,\n",
       "          0,   0,   0,   0,   0,   0,   0,   0,   0,   0,   0,   0,   0,\n",
       "          0,   0]], dtype=uint8)"
      ]
     },
     "execution_count": 5,
     "metadata": {},
     "output_type": "execute_result"
    }
   ],
   "source": [
    "print(len(X_train))\n",
    "X_train[444]\n"
   ]
  },
  {
   "cell_type": "code",
   "execution_count": 24,
   "metadata": {},
   "outputs": [
    {
     "data": {
      "text/plain": [
       "<matplotlib.image.AxesImage at 0x1fb578d5400>"
      ]
     },
     "execution_count": 24,
     "metadata": {},
     "output_type": "execute_result"
    },
    {
     "data": {
      "image/png": "[encoded data removed]",
      "text/plain": [
       "<Figure size 432x288 with 1 Axes>"
      ]
     },
     "metadata": {
      "needs_background": "light"
     },
     "output_type": "display_data"
    }
   ],
   "source": [
    "plt.imshow(X_test[444], cmap=\"Greys\")"
   ]
  },
  {
   "cell_type": "code",
   "execution_count": 8,
   "metadata": {},
   "outputs": [],
   "source": [
    "#### paremeters\n",
    "Y_train[100]   \n",
    "X1_train = X_train.reshape(60000, 784) #flatten    \n",
    "X1_test = X_test.reshape(10000, 784) #flatten   \n",
    "\n",
    "classes = 10   # results= 10 classes\n",
    "\n",
    "Y1_train = np_utils.to_categorical(Y_train, classes)     \n",
    "Y1_test = np_utils.to_categorical(Y_test, classes)\n",
    "\n",
    "input_size = 784\n",
    "batch_size = 100     # try 100 and gradient descent\n",
    "hidden_neurons = 100    # nnumber neurons"
   ]
  },
  {
   "cell_type": "code",
   "execution_count": 8,
   "metadata": {},
   "outputs": [
    {
     "data": {
      "text/plain": [
       "array([0., 0., 0., 0., 0., 0., 1., 0., 0., 0.])"
      ]
     },
     "execution_count": 8,
     "metadata": {},
     "output_type": "execute_result"
    }
   ],
   "source": [
    "# look one example:\n",
    "Y1_test[100]"
   ]
  },
  {
   "cell_type": "code",
   "execution_count": 9,
   "metadata": {},
   "outputs": [
    {
     "name": "stdout",
     "output_type": "stream",
     "text": [
      "Epoch 1/30\n",
      "60000/60000 [==============================] - 2s 27us/step - loss: 0.9092 - acc: 0.7710\n",
      "Epoch 2/30\n",
      "60000/60000 [==============================] - 1s 23us/step - loss: 0.4721 - acc: 0.8845\n",
      "Epoch 3/30\n",
      "60000/60000 [==============================] - 1s 23us/step - loss: 0.3855 - acc: 0.9027\n",
      "Epoch 4/30\n",
      "60000/60000 [==============================] - 1s 24us/step - loss: 0.3410 - acc: 0.9109\n",
      "Epoch 5/30\n",
      "60000/60000 [==============================] - 1s 24us/step - loss: 0.3121 - acc: 0.9165\n",
      "Epoch 6/30\n",
      "60000/60000 [==============================] - 1s 23us/step - loss: 0.2905 - acc: 0.9224\n",
      "Epoch 7/30\n",
      "60000/60000 [==============================] - 2s 25us/step - loss: 0.2731 - acc: 0.9265\n",
      "Epoch 8/30\n",
      "60000/60000 [==============================] - 2s 26us/step - loss: 0.2595 - acc: 0.9290\n",
      "Epoch 9/30\n",
      "60000/60000 [==============================] - 1s 25us/step - loss: 0.2487 - acc: 0.9309\n",
      "Epoch 10/30\n",
      "60000/60000 [==============================] - 1s 23us/step - loss: 0.2402 - acc: 0.9339\n",
      "Epoch 11/30\n",
      "60000/60000 [==============================] - 1s 24us/step - loss: 0.2309 - acc: 0.9359\n",
      "Epoch 12/30\n",
      "60000/60000 [==============================] - 1s 22us/step - loss: 0.2196 - acc: 0.9388\n",
      "Epoch 13/30\n",
      "60000/60000 [==============================] - 1s 23us/step - loss: 0.2143 - acc: 0.9406\n",
      "Epoch 14/30\n",
      "60000/60000 [==============================] - 1s 22us/step - loss: 0.2101 - acc: 0.9426\n",
      "Epoch 15/30\n",
      "60000/60000 [==============================] - 1s 22us/step - loss: 0.2013 - acc: 0.9439\n",
      "Epoch 16/30\n",
      "60000/60000 [==============================] - 1s 23us/step - loss: 0.1975 - acc: 0.9454\n",
      "Epoch 17/30\n",
      "60000/60000 [==============================] - 1s 23us/step - loss: 0.1913 - acc: 0.9470\n",
      "Epoch 18/30\n",
      "60000/60000 [==============================] - 1s 23us/step - loss: 0.1876 - acc: 0.9471\n",
      "Epoch 19/30\n",
      "60000/60000 [==============================] - 2s 27us/step - loss: 0.1841 - acc: 0.9486\n",
      "Epoch 20/30\n",
      "60000/60000 [==============================] - 2s 27us/step - loss: 0.1786 - acc: 0.9502\n",
      "Epoch 21/30\n",
      "60000/60000 [==============================] - 2s 27us/step - loss: 0.1739 - acc: 0.9501\n",
      "Epoch 22/30\n",
      "60000/60000 [==============================] - 2s 29us/step - loss: 0.1706 - acc: 0.9516\n",
      "Epoch 23/30\n",
      "60000/60000 [==============================] - 1s 24us/step - loss: 0.1688 - acc: 0.9526\n",
      "Epoch 24/30\n",
      "60000/60000 [==============================] - 1s 22us/step - loss: 0.1656 - acc: 0.9533\n",
      "Epoch 25/30\n",
      "60000/60000 [==============================] - 1s 23us/step - loss: 0.1629 - acc: 0.9544\n",
      "Epoch 26/30\n",
      "60000/60000 [==============================] - 2s 25us/step - loss: 0.1587 - acc: 0.9552\n",
      "Epoch 27/30\n",
      "60000/60000 [==============================] - 2s 26us/step - loss: 0.1551 - acc: 0.9570\n",
      "Epoch 28/30\n",
      "60000/60000 [==============================] - 2s 30us/step - loss: 0.1530 - acc: 0.9571\n",
      "Epoch 29/30\n",
      "60000/60000 [==============================] - 2s 27us/step - loss: 0.1498 - acc: 0.9581\n",
      "Epoch 30/30\n",
      "60000/60000 [==============================] - 1s 22us/step - loss: 0.1467 - acc: 0.9595\n"
     ]
    },
    {
     "data": {
      "text/plain": [
       "<keras.callbacks.History at 0x1fb573bd4e0>"
      ]
     },
     "execution_count": 9,
     "metadata": {},
     "output_type": "execute_result"
    }
   ],
   "source": [
    " \n",
    "\n",
    "\n",
    "model = Sequential()     # model\n",
    "### first layers\n",
    "model.add(Dense(hidden_neurons, input_dim=784)) \n",
    "model.add(Activation('sigmoid'))  \n",
    "### seconds layers\n",
    "model.add(Dense(classes, input_dim=hidden_neurons)) \n",
    "\n",
    "\n",
    "## change to probabilities\n",
    "model.add(Activation('softmax'))\n",
    "\n",
    "### detail: loss function and optimizer\n",
    "model.compile(loss='categorical_crossentropy', metrics=['accuracy'], optimizer='sgd')\n",
    "#### start to train\n",
    "model.fit(X1_train, Y1_train, batch_size=batch_size, epochs=30, verbose=1)"
   ]
  },
  {
   "cell_type": "code",
   "execution_count": 10,
   "metadata": {},
   "outputs": [],
   "source": [
    "prediction = model.predict_classes(X1_test)\n",
    "\n",
    "def plot_images_labels_prediction(images, labels, prediction, idx, num = 10):\n",
    "    fig = plt.gcf()\n",
    "    fig.set_size_inches(12, 14)\n",
    "    if num > 25: num = 25\n",
    "    for i in range(0, num):\n",
    "        ax = plt.subplot(5, 5, 1+i)\n",
    "        ax.imshow(images[idx], cmap='binary')\n",
    "        title = \"label=\" + str(labels[idx])\n",
    "        if len(prediction) > 0:\n",
    "            title += \", predict=\" + str(prediction[idx])\n",
    "                \n",
    "        ax.set_title(title, fontsize = 10)\n",
    "        ax.set_xticks([]);ax.set_yticks([])\n",
    "        idx += 1\n",
    "    plt.show()"
   ]
  },
  {
   "cell_type": "code",
   "execution_count": 11,
   "metadata": {},
   "outputs": [
    {
     "data": {
      "image/png": "[encoded data removed]",
      "text/plain": [
       "<Figure size 864x1008 with 10 Axes>"
      ]
     },
     "metadata": {},
     "output_type": "display_data"
    }
   ],
   "source": [
    "plot_images_labels_prediction(X_test, Y_test, prediction, idx=340)"
   ]
  },
  {
   "cell_type": "code",
   "execution_count": 12,
   "metadata": {},
   "outputs": [
    {
     "name": "stdout",
     "output_type": "stream",
     "text": [
      "10000/10000 [==============================] - 0s 27us/step\n",
      "Test accuracy: 0.9527\n"
     ]
    }
   ],
   "source": [
    "# scorers\n",
    "score = model.evaluate(X1_test, Y1_test, verbose=1)\n",
    "print('Test accuracy:', score[1]) \n",
    "from keras.models import load_model\n",
    "\n",
    "model.save('my_model.h5')"
   ]
  },
  {
   "cell_type": "code",
   "execution_count": 26,
   "metadata": {},
   "outputs": [
    {
     "name": "stdout",
     "output_type": "stream",
     "text": [
      "9\n"
     ]
    },
    {
     "data": {
      "text/plain": [
       "<matplotlib.image.AxesImage at 0x1fb5798a320>"
      ]
     },
     "execution_count": 26,
     "metadata": {},
     "output_type": "execute_result"
    },
    {
     "data": {
      "image/png": "[encoded data removed]",
      "text/plain": [
       "<Figure size 432x288 with 1 Axes>"
      ]
     },
     "metadata": {
      "needs_background": "light"
     },
     "output_type": "display_data"
    }
   ],
   "source": [
    "## check specific example\n",
    "print(np.array(prediction.tolist())[454])\n",
    "plt.imshow(X_test[454], cmap=\"Greys\")"
   ]
  },
  {
   "cell_type": "code",
   "execution_count": null,
   "metadata": {},
   "outputs": [],
   "source": []
  }
 ],
 "metadata": {
  "kernelspec": {
   "display_name": "Python 3",
   "language": "python",
   "name": "python3"
  },
  "language_info": {
   "codemirror_mode": {
    "name": "ipython",
    "version": 3
   },
   "file_extension": ".py",
   "mimetype": "text/x-python",
   "name": "python",
   "nbconvert_exporter": "python",
   "pygments_lexer": "ipython3",
   "version": "3.6.7"
  }
 },
 "nbformat": 4,
 "nbformat_minor": 2
}
